{
 "cells": [
  {
   "cell_type": "code",
   "execution_count": 134,
   "metadata": {},
   "outputs": [],
   "source": [
    "import openpyxl\n",
    "import pandas as pd\n",
    "from datetime import datetime\n",
    "from docxtpl import DocxTemplate\n"
   ]
  },
  {
   "cell_type": "markdown",
   "metadata": {},
   "source": [
    "Se faz chamo do documento Word"
   ]
  },
  {
   "cell_type": "code",
   "execution_count": 135,
   "metadata": {},
   "outputs": [],
   "source": [
    "doc = DocxTemplate(\"plantin.docx\")\n"
   ]
  },
  {
   "cell_type": "markdown",
   "metadata": {},
   "source": [
    "Se cra as variable do remitente"
   ]
  },
  {
   "cell_type": "code",
   "execution_count": 136,
   "metadata": {},
   "outputs": [
    {
     "name": "stdout",
     "output_type": "stream",
     "text": [
      "10/01/25\n",
      "profe-prueva@gmail.com\n",
      "(11) 000 00 00\n",
      "Jhon Manuel Gil\n"
     ]
    }
   ],
   "source": [
    "nome_profe = \"Jhon Manuel Gil\"\n",
    "email = \"profe-prueva@gmail.com\"\n",
    "telefono = \"(11) 000 00 00\"\n",
    "fecha = datetime.today().strftime(\"%d/%m/%yyyy\")\n",
    "\n",
    "\n",
    "#Prova fecha\n",
    "\n",
    "#print(fecha)\n",
    "#print(email)\n",
    "#print(telefono)\n",
    "#print(nome_profe)"
   ]
  },
  {
   "cell_type": "markdown",
   "metadata": {},
   "source": [
    "constante de remetente de e-mail"
   ]
  },
  {
   "cell_type": "code",
   "execution_count": 137,
   "metadata": {},
   "outputs": [
    {
     "name": "stdout",
     "output_type": "stream",
     "text": [
      "{'nome_profe': 'Jhon Manuel Gil', 'email': 'profe-prueva@gmail.com', 'telefono': '(11) 000 00 00', 'fecha': '10/01/25'}\n"
     ]
    }
   ],
   "source": [
    "constante = { \"nome_profe\": nome_profe, \"email\": email, \"telefono\": telefono, \"fecha\": fecha }\n",
    "#teste\n",
    "print(constante)"
   ]
  },
  {
   "cell_type": "code",
   "execution_count": 138,
   "metadata": {},
   "outputs": [],
   "source": [
    "df = pd.read_excel(\"aluno.xlsx\")\n"
   ]
  },
  {
   "cell_type": "code",
   "execution_count": 139,
   "metadata": {},
   "outputs": [
    {
     "data": {
      "text/html": [
       "<div>\n",
       "<style scoped>\n",
       "    .dataframe tbody tr th:only-of-type {\n",
       "        vertical-align: middle;\n",
       "    }\n",
       "\n",
       "    .dataframe tbody tr th {\n",
       "        vertical-align: top;\n",
       "    }\n",
       "\n",
       "    .dataframe thead th {\n",
       "        text-align: right;\n",
       "    }\n",
       "</style>\n",
       "<table border=\"1\" class=\"dataframe\">\n",
       "  <thead>\n",
       "    <tr style=\"text-align: right;\">\n",
       "      <th></th>\n",
       "      <th>Nome do aluno</th>\n",
       "      <th>Mat</th>\n",
       "      <th>Fis</th>\n",
       "      <th>Ing</th>\n",
       "      <th>Geo</th>\n",
       "    </tr>\n",
       "  </thead>\n",
       "  <tbody>\n",
       "    <tr>\n",
       "      <th>0</th>\n",
       "      <td>Juan Perez</td>\n",
       "      <td>6.60</td>\n",
       "      <td>9.30</td>\n",
       "      <td>2.0</td>\n",
       "      <td>10.0</td>\n",
       "    </tr>\n",
       "    <tr>\n",
       "      <th>1</th>\n",
       "      <td>Ana Sànchez</td>\n",
       "      <td>6.70</td>\n",
       "      <td>9.40</td>\n",
       "      <td>9.1</td>\n",
       "      <td>5.5</td>\n",
       "    </tr>\n",
       "    <tr>\n",
       "      <th>2</th>\n",
       "      <td>Luís Mayor</td>\n",
       "      <td>6.80</td>\n",
       "      <td>8.50</td>\n",
       "      <td>2.2</td>\n",
       "      <td>8.0</td>\n",
       "    </tr>\n",
       "    <tr>\n",
       "      <th>3</th>\n",
       "      <td>Maria Gomez</td>\n",
       "      <td>8.90</td>\n",
       "      <td>2.60</td>\n",
       "      <td>6.3</td>\n",
       "      <td>9.0</td>\n",
       "    </tr>\n",
       "    <tr>\n",
       "      <th>4</th>\n",
       "      <td>Jesus Fajardo</td>\n",
       "      <td>6.10</td>\n",
       "      <td>4.70</td>\n",
       "      <td>2.4</td>\n",
       "      <td>10.0</td>\n",
       "    </tr>\n",
       "    <tr>\n",
       "      <th>5</th>\n",
       "      <td>Calor Ruis</td>\n",
       "      <td>6.11</td>\n",
       "      <td>9.80</td>\n",
       "      <td>5.5</td>\n",
       "      <td>6.0</td>\n",
       "    </tr>\n",
       "    <tr>\n",
       "      <th>6</th>\n",
       "      <td>Isabel Bermúdez</td>\n",
       "      <td>9.12</td>\n",
       "      <td>7.90</td>\n",
       "      <td>9.6</td>\n",
       "      <td>7.0</td>\n",
       "    </tr>\n",
       "    <tr>\n",
       "      <th>7</th>\n",
       "      <td>Daniel Castillo</td>\n",
       "      <td>6.13</td>\n",
       "      <td>5.10</td>\n",
       "      <td>8.7</td>\n",
       "      <td>5.9</td>\n",
       "    </tr>\n",
       "    <tr>\n",
       "      <th>8</th>\n",
       "      <td>Fernando Armário</td>\n",
       "      <td>10.00</td>\n",
       "      <td>8.11</td>\n",
       "      <td>10.0</td>\n",
       "      <td>10.0</td>\n",
       "    </tr>\n",
       "  </tbody>\n",
       "</table>\n",
       "</div>"
      ],
      "text/plain": [
       "      Nome do aluno    Mat   Fis   Ing   Geo\n",
       "0        Juan Perez   6.60  9.30   2.0  10.0\n",
       "1       Ana Sànchez   6.70  9.40   9.1   5.5\n",
       "2        Luís Mayor   6.80  8.50   2.2   8.0\n",
       "3       Maria Gomez   8.90  2.60   6.3   9.0\n",
       "4     Jesus Fajardo   6.10  4.70   2.4  10.0\n",
       "5        Calor Ruis   6.11  9.80   5.5   6.0\n",
       "6   Isabel Bermúdez   9.12  7.90   9.6   7.0\n",
       "7   Daniel Castillo   6.13  5.10   8.7   5.9\n",
       "8  Fernando Armário  10.00  8.11  10.0  10.0"
      ]
     },
     "execution_count": 139,
     "metadata": {},
     "output_type": "execute_result"
    }
   ],
   "source": [
    "#A chamada é feita para realizar a revisão da lista e, em seguida, preencher o documento para salvar.\n",
    "\n",
    "df"
   ]
  },
  {
   "cell_type": "code",
   "execution_count": 140,
   "metadata": {},
   "outputs": [
    {
     "name": "stdout",
     "output_type": "stream",
     "text": [
      "{'nome_aluno': 'Juan Perez', 'nota_mat': 6.6, 'nota_fisica': 9.3, 'nota_ingle': 2.0, 'nota_geograf': 10.0, 'nome_profe': 'Jhon Manuel Gil', 'email': 'profe-prueva@gmail.com', 'telefono': '(11) 000 00 00', 'fecha': '10/01/25'}\n",
      "{'nome_aluno': 'Ana Sànchez', 'nota_mat': 6.7, 'nota_fisica': 9.4, 'nota_ingle': 9.1, 'nota_geograf': 5.5, 'nome_profe': 'Jhon Manuel Gil', 'email': 'profe-prueva@gmail.com', 'telefono': '(11) 000 00 00', 'fecha': '10/01/25'}\n",
      "{'nome_aluno': 'Luís Mayor', 'nota_mat': 6.8, 'nota_fisica': 8.5, 'nota_ingle': 2.2, 'nota_geograf': 8.0, 'nome_profe': 'Jhon Manuel Gil', 'email': 'profe-prueva@gmail.com', 'telefono': '(11) 000 00 00', 'fecha': '10/01/25'}\n",
      "{'nome_aluno': 'Maria Gomez', 'nota_mat': 8.9, 'nota_fisica': 2.6, 'nota_ingle': 6.3, 'nota_geograf': 9.0, 'nome_profe': 'Jhon Manuel Gil', 'email': 'profe-prueva@gmail.com', 'telefono': '(11) 000 00 00', 'fecha': '10/01/25'}\n",
      "{'nome_aluno': 'Jesus Fajardo', 'nota_mat': 6.1, 'nota_fisica': 4.7, 'nota_ingle': 2.4, 'nota_geograf': 10.0, 'nome_profe': 'Jhon Manuel Gil', 'email': 'profe-prueva@gmail.com', 'telefono': '(11) 000 00 00', 'fecha': '10/01/25'}\n",
      "{'nome_aluno': 'Calor Ruis', 'nota_mat': 6.11, 'nota_fisica': 9.8, 'nota_ingle': 5.5, 'nota_geograf': 6.0, 'nome_profe': 'Jhon Manuel Gil', 'email': 'profe-prueva@gmail.com', 'telefono': '(11) 000 00 00', 'fecha': '10/01/25'}\n",
      "{'nome_aluno': 'Isabel Bermúdez', 'nota_mat': 9.12, 'nota_fisica': 7.9, 'nota_ingle': 9.6, 'nota_geograf': 7.0, 'nome_profe': 'Jhon Manuel Gil', 'email': 'profe-prueva@gmail.com', 'telefono': '(11) 000 00 00', 'fecha': '10/01/25'}\n",
      "{'nome_aluno': 'Daniel Castillo', 'nota_mat': 6.13, 'nota_fisica': 5.1, 'nota_ingle': 8.7, 'nota_geograf': 5.9, 'nome_profe': 'Jhon Manuel Gil', 'email': 'profe-prueva@gmail.com', 'telefono': '(11) 000 00 00', 'fecha': '10/01/25'}\n",
      "{'nome_aluno': 'Fernando Armário', 'nota_mat': 10.0, 'nota_fisica': 8.11, 'nota_ingle': 10.0, 'nota_geograf': 10.0, 'nome_profe': 'Jhon Manuel Gil', 'email': 'profe-prueva@gmail.com', 'telefono': '(11) 000 00 00', 'fecha': '10/01/25'}\n"
     ]
    }
   ],
   "source": [
    "#integração do documento\n",
    "\n",
    "for indice, fila in df.iterrows():\n",
    "    #print(fila)\n",
    "    #print(\"_________\")\n",
    "    #cera disionario\n",
    "   conteudo ={\n",
    "       \"nome_aluno\": fila[\"Nome do aluno\"],\n",
    "       \"nota_mat\": fila[\"Mat\"],\n",
    "       \"nota_fisica\": fila[\"Fis\"],\n",
    "       \"nota_ingle\": fila[\"Ing\"],\n",
    "       \"nota_geograf\": fila[\"Geo\"],\n",
    "       \n",
    "   }\n",
    "   \n",
    "   #chamna a costante\n",
    "   conteudo.update(constante)\n",
    "   \n",
    "   # se redefine o documento já todo automatizado\n",
    "   doc.render(conteudo)\n",
    "   doc.save(f\"Notas_de_{fila[\"Nome do aluno\"]}.docx\")\n",
    "   print(conteudo)"
   ]
  },
  {
   "cell_type": "code",
   "execution_count": 141,
   "metadata": {},
   "outputs": [],
   "source": [
    "# se chama o documento e se guardo o documento como prova\n",
    "doc.render(constante)\n",
    "doc.save(f\"Prova.docx\")\n"
   ]
  }
 ],
 "metadata": {
  "kernelspec": {
   "display_name": "Python 3",
   "language": "python",
   "name": "python3"
  },
  "language_info": {
   "codemirror_mode": {
    "name": "ipython",
    "version": 3
   },
   "file_extension": ".py",
   "mimetype": "text/x-python",
   "name": "python",
   "nbconvert_exporter": "python",
   "pygments_lexer": "ipython3",
   "version": "3.12.4"
  }
 },
 "nbformat": 4,
 "nbformat_minor": 2
}
